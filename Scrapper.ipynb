{
 "cells": [
  {
   "cell_type": "code",
   "execution_count": null,
   "metadata": {},
   "outputs": [],
   "source": [
    "from selenium import webdriver\n",
    "from selenium.webdriver.common.by import By\n",
    "from selenium.webdriver.chrome.service import Service\n",
    "from selenium.webdriver.common.keys import Keys \n",
    "from selenium.webdriver.support.ui import WebDriverWait\n",
    "from selenium.webdriver.support import expected_conditions as EC\n",
    "from selenium.webdriver.chrome.options import Options\n",
    "import csv \n",
    "import re\n"
   ]
  },
  {
   "cell_type": "code",
   "execution_count": null,
   "metadata": {},
   "outputs": [],
   "source": [
    "class reviews:\n",
    "    def __init__(self, df):\n",
    "        self.movies = df\n",
    "        self.url = \"https://www.imdb.com/\"\n",
    "        self.tag_words = []\n",
    "        self.reviews = {}\n",
    "        \n",
    "        \n",
    "    def make_tagword(self):\n",
    "        pattern = r'^(.*?)\\(.*[^)](.{5})$'\n",
    "        self.unique_movies = list(self.movies['movie_title'].unique())\n",
    "        for tag in self.unique_movies:\n",
    "            match = re.search(pattern, tag)\n",
    "            if match:\n",
    "                before_bracket = match.group(1)\n",
    "                last_five = match.group(2)\n",
    "                self.tag_words.append(before_bracket + \" \" + last_five)\n",
    "            else:\n",
    "                self.tag_words.append(tag)\n",
    "\n",
    "\n",
    "    def initiate_driver(self):\n",
    "        service = Service('chromedriver.exe')    \n",
    "        options = Options()\n",
    "        options.headless = True\n",
    "        self.driver = webdriver.Chrome(service=service, options=options)\n",
    "        self.wait = WebDriverWait(self.driver, 10)\n",
    "\n",
    "        self.driver.get(self.url)\n",
    "    \n",
    "    def get_search_box(self):\n",
    "        self.search_box = self.driver.find_element(By.ID, \"suggestion-search\")\n",
    "\n",
    "    def make_search(self, tag):\n",
    "        print(tag)\n",
    "        self.search_box.send_keys(tag)\n",
    "        self.search_box.send_keys(Keys.RETURN)\n",
    "        link = self.driver.find_element(By.CLASS_NAME, 'ipc-metadata-list-summary-item__t')\n",
    "        self.driver.execute_script(\"arguments[0].scrollIntoView();\", link)\n",
    "        self.driver.execute_script(\"arguments[0].click();\", link)\n",
    "\n",
    "    def click_reviews(self):\n",
    "        user_review_links = self.driver.find_element(By.XPATH , '/html/body/div[2]/main/div/section[1]/div/section/div/div[1]/section[7]/div[1]/div/a')\n",
    "        self.driver.execute_script(\"arguments[0].scrollIntoView();\", user_review_links)\n",
    "        self.driver.execute_script(\"arguments[0].click();\", user_review_links)\n",
    "    \n",
    "    def get_reviews(self, tag):\n",
    "        div_elements = WebDriverWait(self.driver, 10).until(\n",
    "            EC.presence_of_all_elements_located((By.CSS_SELECTOR, 'div.text.show-more__control.clickable'))\n",
    "        )\n",
    "        for div in div_elements[:10]:\n",
    "           self.reviews[tag] = div.text\n",
    "\n",
    "    def go_back(self):\n",
    "        self.driver.back()\n",
    "\n",
    "    \n",
    "        \n",
    "rev = reviews(movie.df)"
   ]
  },
  {
   "cell_type": "code",
   "execution_count": null,
   "metadata": {},
   "outputs": [],
   "source": [
    "\n",
    "rev.make_tagword()\n",
    "rev.initiate_driver()\n",
    "for tag in rev.tag_words[0:416]:\n",
    "    try:\n",
    "        rev.get_search_box()\n",
    "        rev.make_search(tag)\n",
    "        rev.click_reviews()\n",
    "        rev.get_reviews(tag)\n",
    "    except:\n",
    "        print(\"Exception\")\n",
    "    finally:\n",
    "        continue"
   ]
  },
  {
   "cell_type": "code",
   "execution_count": null,
   "metadata": {},
   "outputs": [],
   "source": [
    "with open('reviews.csv', 'w', newline='', encoding='utf-8') as csvfile: \n",
    "    writer = csv.writer(csvfile)\n",
    "    writer.writerow([\"Movie\", \"Review\"])\n",
    "    for movie, review in rev.reviews.items():\n",
    "        writer.writerow([movie, review])"
   ]
  }
 ],
 "metadata": {
  "language_info": {
   "name": "python"
  }
 },
 "nbformat": 4,
 "nbformat_minor": 2
}
